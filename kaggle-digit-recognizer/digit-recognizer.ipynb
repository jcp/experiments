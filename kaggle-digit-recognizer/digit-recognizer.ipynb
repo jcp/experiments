{
  "nbformat": 4,
  "nbformat_minor": 0,
  "metadata": {
    "colab": {
      "name": "digit-recognizer.ipynb",
      "version": "0.3.2",
      "provenance": [],
      "collapsed_sections": []
    },
    "kernelspec": {
      "name": "python3",
      "display_name": "Python 3"
    },
    "accelerator": "GPU"
  },
  "cells": [
    {
      "cell_type": "code",
      "metadata": {
        "id": "baJ5cD7tKXnN",
        "colab_type": "code",
        "outputId": "564865fb-0672-40a9-dde7-524139521c54",
        "colab": {
          "base_uri": "https://localhost:8080/",
          "height": 68
        }
      },
      "source": [
        "!pip install -q tensorflow-gpu==2.0.0-beta1"
      ],
      "execution_count": 1,
      "outputs": [
        {
          "output_type": "stream",
          "text": [
            "\u001b[K     |████████████████████████████████| 348.9MB 49kB/s \n",
            "\u001b[K     |████████████████████████████████| 3.1MB 34.6MB/s \n",
            "\u001b[K     |████████████████████████████████| 501kB 52.3MB/s \n",
            "\u001b[?25h"
          ],
          "name": "stdout"
        }
      ]
    },
    {
      "cell_type": "code",
      "metadata": {
        "id": "87_PlQ-T81Dv",
        "colab_type": "code",
        "colab": {}
      },
      "source": [
        "# -*- coding: utf-8 -*-\n",
        "\n",
        "import matplotlib.pyplot as plt\n",
        "import numpy as np\n",
        "import pandas as pd\n",
        "import seaborn as sns\n",
        "import tensorflow as tf\n",
        "\n",
        "from sklearn.model_selection import train_test_split\n",
        "from tensorflow.keras import layers\n",
        "\n",
        "\n",
        "np.random.seed(1)\n",
        "sns.set(style=\"white\", context=\"notebook\", palette=\"pastel\")"
      ],
      "execution_count": 0,
      "outputs": []
    },
    {
      "cell_type": "code",
      "metadata": {
        "id": "7-vR2e-T89fQ",
        "colab_type": "code",
        "colab": {}
      },
      "source": [
        "# Load\n",
        "train = pd.read_csv(\"train.csv\")\n",
        "test = pd.read_csv(\"test.csv\")"
      ],
      "execution_count": 0,
      "outputs": []
    },
    {
      "cell_type": "code",
      "metadata": {
        "id": "HhhsaVTx9Ar8",
        "colab_type": "code",
        "colab": {}
      },
      "source": [
        "# Preprocess\n",
        "x_train = train.drop(labels=[\"label\"], axis=1)\n",
        "x_train /= 255.0\n",
        "x_train = x_train.values.reshape(-1, 28, 28, 1)\n",
        "\n",
        "y_train = train[\"label\"]\n",
        "y_train = tf.keras.utils.to_categorical(y_train, num_classes=10)\n",
        "\n",
        "test /= 255.0\n",
        "test = test.values.reshape(-1, 28, 28, 1)\n",
        "\n",
        "x_train, x_val, y_train, y_val = train_test_split(\n",
        "    x_train, y_train, test_size=0.1, random_state=1\n",
        ")"
      ],
      "execution_count": 0,
      "outputs": []
    },
    {
      "cell_type": "code",
      "metadata": {
        "id": "1ZyqBRqq93jS",
        "colab_type": "code",
        "outputId": "02a9eb11-9190-417f-99cd-6ed102e0fc33",
        "colab": {
          "base_uri": "https://localhost:8080/",
          "height": 765
        }
      },
      "source": [
        "# Build model\n",
        "model = tf.keras.Sequential()\n",
        "model.add(layers.Conv2D(filters=32, kernel_size=3, activation=\"relu\", input_shape=(28, 28, 1)))\n",
        "model.add(layers.BatchNormalization())\n",
        "model.add(layers.Conv2D(filters=32, kernel_size=3, activation=\"relu\"))\n",
        "model.add(layers.BatchNormalization())\n",
        "model.add(layers.Conv2D(filters=32, kernel_size=5, strides=2, padding=\"same\", activation=\"relu\"))\n",
        "model.add(layers.BatchNormalization())\n",
        "model.add(layers.Dropout(0.4))\n",
        "\n",
        "model.add(layers.Conv2D(filters=64, kernel_size=3, activation=\"relu\"))\n",
        "model.add(layers.BatchNormalization())\n",
        "model.add(layers.Conv2D(filters=64, kernel_size=3, activation=\"relu\"))\n",
        "model.add(layers.BatchNormalization())\n",
        "model.add(layers.Conv2D(filters=64, kernel_size=5, strides=2, padding=\"same\", activation=\"relu\"))\n",
        "model.add(layers.BatchNormalization())\n",
        "model.add(layers.Dropout(0.4))\n",
        "\n",
        "model.add(layers.Flatten())\n",
        "model.add(layers.Dense(256, activation=\"relu\"))\n",
        "model.add(layers.Dropout(0.4))\n",
        "model.add(layers.Dense(10, activation=\"softmax\"))\n",
        "\n",
        "model.summary()"
      ],
      "execution_count": 5,
      "outputs": [
        {
          "output_type": "stream",
          "text": [
            "Model: \"sequential\"\n",
            "_________________________________________________________________\n",
            "Layer (type)                 Output Shape              Param #   \n",
            "=================================================================\n",
            "conv2d (Conv2D)              (None, 26, 26, 32)        320       \n",
            "_________________________________________________________________\n",
            "batch_normalization (BatchNo (None, 26, 26, 32)        128       \n",
            "_________________________________________________________________\n",
            "conv2d_1 (Conv2D)            (None, 24, 24, 32)        9248      \n",
            "_________________________________________________________________\n",
            "batch_normalization_1 (Batch (None, 24, 24, 32)        128       \n",
            "_________________________________________________________________\n",
            "conv2d_2 (Conv2D)            (None, 12, 12, 32)        25632     \n",
            "_________________________________________________________________\n",
            "batch_normalization_2 (Batch (None, 12, 12, 32)        128       \n",
            "_________________________________________________________________\n",
            "dropout (Dropout)            (None, 12, 12, 32)        0         \n",
            "_________________________________________________________________\n",
            "conv2d_3 (Conv2D)            (None, 10, 10, 64)        18496     \n",
            "_________________________________________________________________\n",
            "batch_normalization_3 (Batch (None, 10, 10, 64)        256       \n",
            "_________________________________________________________________\n",
            "conv2d_4 (Conv2D)            (None, 8, 8, 64)          36928     \n",
            "_________________________________________________________________\n",
            "batch_normalization_4 (Batch (None, 8, 8, 64)          256       \n",
            "_________________________________________________________________\n",
            "conv2d_5 (Conv2D)            (None, 4, 4, 64)          102464    \n",
            "_________________________________________________________________\n",
            "batch_normalization_5 (Batch (None, 4, 4, 64)          256       \n",
            "_________________________________________________________________\n",
            "dropout_1 (Dropout)          (None, 4, 4, 64)          0         \n",
            "_________________________________________________________________\n",
            "flatten (Flatten)            (None, 1024)              0         \n",
            "_________________________________________________________________\n",
            "dense (Dense)                (None, 256)               262400    \n",
            "_________________________________________________________________\n",
            "dropout_2 (Dropout)          (None, 256)               0         \n",
            "_________________________________________________________________\n",
            "dense_1 (Dense)              (None, 10)                2570      \n",
            "=================================================================\n",
            "Total params: 459,210\n",
            "Trainable params: 458,634\n",
            "Non-trainable params: 576\n",
            "_________________________________________________________________\n"
          ],
          "name": "stdout"
        }
      ]
    },
    {
      "cell_type": "code",
      "metadata": {
        "id": "MGKsQzoo-Wwn",
        "colab_type": "code",
        "colab": {}
      },
      "source": [
        "# Compile model\n",
        "model.compile(\n",
        "    optimizer=tf.keras.optimizers.Adam(lr=0.0001),\n",
        "    loss=\"categorical_crossentropy\",\n",
        "    metrics=[\"accuracy\"],\n",
        ")"
      ],
      "execution_count": 0,
      "outputs": []
    },
    {
      "cell_type": "code",
      "metadata": {
        "id": "Enkp9OXq-aUS",
        "colab_type": "code",
        "colab": {}
      },
      "source": [
        "# Generate augmented data\n",
        "datagen = tf.keras.preprocessing.image.ImageDataGenerator(\n",
        "    rotation_range=10, width_shift_range=0.1, height_shift_range=0.1, zoom_range=0.1\n",
        ")"
      ],
      "execution_count": 0,
      "outputs": []
    },
    {
      "cell_type": "code",
      "metadata": {
        "id": "OgbXT2Jj-dl8",
        "colab_type": "code",
        "colab": {}
      },
      "source": [
        "# Create callback for model\n",
        "annealer = tf.keras.callbacks.LearningRateScheduler(lambda x: 1e-3 * 0.95 ** x)"
      ],
      "execution_count": 0,
      "outputs": []
    },
    {
      "cell_type": "code",
      "metadata": {
        "id": "LfD9r4SO-ey6",
        "colab_type": "code",
        "outputId": "ed3326af-4d93-4e5d-d52f-ce90a4d8672c",
        "colab": {
          "base_uri": "https://localhost:8080/",
          "height": 1000
        }
      },
      "source": [
        "# Run the model\n",
        "batch_size = 60\n",
        "steps_per_epoch = x_train.shape[0] // batch_size\n",
        "history = model.fit_generator(\n",
        "    datagen.flow(x_train, y_train, batch_size=batch_size),\n",
        "    steps_per_epoch=steps_per_epoch,\n",
        "    epochs=30,\n",
        "    verbose=1,\n",
        "    callbacks=[annealer],\n",
        "    validation_data=(x_val, y_val),\n",
        ")"
      ],
      "execution_count": 9,
      "outputs": [
        {
          "output_type": "stream",
          "text": [
            "WARNING: Logging before flag parsing goes to stderr.\n",
            "W0806 21:31:59.399471 140594318391168 deprecation.py:323] From /usr/local/lib/python3.6/dist-packages/tensorflow/python/ops/math_grad.py:1250: add_dispatch_support.<locals>.wrapper (from tensorflow.python.ops.array_ops) is deprecated and will be removed in a future version.\n",
            "Instructions for updating:\n",
            "Use tf.where in 2.0, which has the same broadcast rule as np.where\n"
          ],
          "name": "stderr"
        },
        {
          "output_type": "stream",
          "text": [
            "Epoch 1/30\n",
            "630/630 [==============================] - 23s 36ms/step - loss: 0.4750 - accuracy: 0.8540 - val_loss: 0.0512 - val_accuracy: 0.9848\n",
            "Epoch 2/30\n",
            "630/630 [==============================] - 17s 28ms/step - loss: 0.1410 - accuracy: 0.9588 - val_loss: 0.0453 - val_accuracy: 0.9848\n",
            "Epoch 3/30\n",
            "630/630 [==============================] - 17s 28ms/step - loss: 0.1065 - accuracy: 0.9677 - val_loss: 0.0374 - val_accuracy: 0.9900\n",
            "Epoch 4/30\n",
            "630/630 [==============================] - 18s 28ms/step - loss: 0.0922 - accuracy: 0.9720 - val_loss: 0.0283 - val_accuracy: 0.9907\n",
            "Epoch 5/30\n",
            "630/630 [==============================] - 18s 28ms/step - loss: 0.0790 - accuracy: 0.9770 - val_loss: 0.0329 - val_accuracy: 0.9895\n",
            "Epoch 6/30\n",
            "630/630 [==============================] - 17s 28ms/step - loss: 0.0706 - accuracy: 0.9798 - val_loss: 0.0317 - val_accuracy: 0.9914\n",
            "Epoch 7/30\n",
            "630/630 [==============================] - 17s 28ms/step - loss: 0.0659 - accuracy: 0.9808 - val_loss: 0.0253 - val_accuracy: 0.9921\n",
            "Epoch 8/30\n",
            "630/630 [==============================] - 17s 28ms/step - loss: 0.0632 - accuracy: 0.9821 - val_loss: 0.0255 - val_accuracy: 0.9910\n",
            "Epoch 9/30\n",
            "630/630 [==============================] - 17s 28ms/step - loss: 0.0592 - accuracy: 0.9831 - val_loss: 0.0290 - val_accuracy: 0.9917\n",
            "Epoch 10/30\n",
            "630/630 [==============================] - 17s 27ms/step - loss: 0.0506 - accuracy: 0.9850 - val_loss: 0.0259 - val_accuracy: 0.9929\n",
            "Epoch 11/30\n",
            "630/630 [==============================] - 18s 28ms/step - loss: 0.0473 - accuracy: 0.9863 - val_loss: 0.0226 - val_accuracy: 0.9926\n",
            "Epoch 12/30\n",
            "630/630 [==============================] - 17s 28ms/step - loss: 0.0480 - accuracy: 0.9862 - val_loss: 0.0301 - val_accuracy: 0.9917\n",
            "Epoch 13/30\n",
            "630/630 [==============================] - 17s 28ms/step - loss: 0.0433 - accuracy: 0.9872 - val_loss: 0.0291 - val_accuracy: 0.9917\n",
            "Epoch 14/30\n",
            "630/630 [==============================] - 17s 28ms/step - loss: 0.0409 - accuracy: 0.9883 - val_loss: 0.0271 - val_accuracy: 0.9917\n",
            "Epoch 15/30\n",
            "630/630 [==============================] - 17s 28ms/step - loss: 0.0385 - accuracy: 0.9879 - val_loss: 0.0279 - val_accuracy: 0.9921\n",
            "Epoch 16/30\n",
            "630/630 [==============================] - 17s 28ms/step - loss: 0.0392 - accuracy: 0.9885 - val_loss: 0.0237 - val_accuracy: 0.9938\n",
            "Epoch 17/30\n",
            "630/630 [==============================] - 17s 27ms/step - loss: 0.0338 - accuracy: 0.9904 - val_loss: 0.0201 - val_accuracy: 0.9933\n",
            "Epoch 18/30\n",
            "630/630 [==============================] - 17s 27ms/step - loss: 0.0339 - accuracy: 0.9902 - val_loss: 0.0202 - val_accuracy: 0.9950\n",
            "Epoch 19/30\n",
            "630/630 [==============================] - 17s 27ms/step - loss: 0.0339 - accuracy: 0.9903 - val_loss: 0.0172 - val_accuracy: 0.9938\n",
            "Epoch 20/30\n",
            "630/630 [==============================] - 17s 28ms/step - loss: 0.0282 - accuracy: 0.9915 - val_loss: 0.0199 - val_accuracy: 0.9948\n",
            "Epoch 21/30\n",
            "630/630 [==============================] - 17s 28ms/step - loss: 0.0274 - accuracy: 0.9918 - val_loss: 0.0203 - val_accuracy: 0.9936\n",
            "Epoch 22/30\n",
            "630/630 [==============================] - 17s 27ms/step - loss: 0.0284 - accuracy: 0.9917 - val_loss: 0.0163 - val_accuracy: 0.9945\n",
            "Epoch 23/30\n",
            "630/630 [==============================] - 17s 27ms/step - loss: 0.0258 - accuracy: 0.9918 - val_loss: 0.0155 - val_accuracy: 0.9948\n",
            "Epoch 24/30\n",
            "630/630 [==============================] - 17s 28ms/step - loss: 0.0244 - accuracy: 0.9928 - val_loss: 0.0184 - val_accuracy: 0.9943\n",
            "Epoch 25/30\n",
            "630/630 [==============================] - 17s 28ms/step - loss: 0.0249 - accuracy: 0.9920 - val_loss: 0.0173 - val_accuracy: 0.9948\n",
            "Epoch 26/30\n",
            "630/630 [==============================] - 17s 28ms/step - loss: 0.0235 - accuracy: 0.9931 - val_loss: 0.0170 - val_accuracy: 0.9952\n",
            "Epoch 27/30\n",
            "630/630 [==============================] - 17s 27ms/step - loss: 0.0212 - accuracy: 0.9936 - val_loss: 0.0168 - val_accuracy: 0.9948\n",
            "Epoch 28/30\n",
            "630/630 [==============================] - 17s 28ms/step - loss: 0.0238 - accuracy: 0.9929 - val_loss: 0.0151 - val_accuracy: 0.9950\n",
            "Epoch 29/30\n",
            "630/630 [==============================] - 17s 27ms/step - loss: 0.0217 - accuracy: 0.9928 - val_loss: 0.0188 - val_accuracy: 0.9933\n",
            "Epoch 30/30\n",
            "630/630 [==============================] - 17s 27ms/step - loss: 0.0199 - accuracy: 0.9943 - val_loss: 0.0119 - val_accuracy: 0.9962\n"
          ],
          "name": "stdout"
        }
      ]
    },
    {
      "cell_type": "code",
      "metadata": {
        "id": "c0qvQjuW-hvr",
        "colab_type": "code",
        "colab": {}
      },
      "source": [
        "# Save weights\n",
        "model.save_weights(\"weights.h5\")"
      ],
      "execution_count": 0,
      "outputs": []
    },
    {
      "cell_type": "code",
      "metadata": {
        "id": "9CaV_ZNY-vj9",
        "colab_type": "code",
        "outputId": "dac39776-729b-4650-d0eb-5d97e922d496",
        "colab": {
          "base_uri": "https://localhost:8080/",
          "height": 34
        }
      },
      "source": [
        "# Evaluate model\n",
        "loss, accuracy = model.evaluate(x_val, y_val, verbose=0)\n",
        "print(\"Loss: {0:.6f}, Accuracy: {1:.6f}\".format(loss, accuracy))"
      ],
      "execution_count": 11,
      "outputs": [
        {
          "output_type": "stream",
          "text": [
            "Loss: 0.011945, Accuracy: 0.996190\n"
          ],
          "name": "stdout"
        }
      ]
    },
    {
      "cell_type": "code",
      "metadata": {
        "id": "H81bbMrLHt5a",
        "colab_type": "code",
        "outputId": "fc5e145d-646d-4d7e-aa46-eb3e39c49468",
        "colab": {
          "base_uri": "https://localhost:8080/",
          "height": 568
        }
      },
      "source": [
        "# Plot accuracy and loss\n",
        "epochs = range(1, len(history.history[\"accuracy\"]) + 1)\n",
        "plt.plot(epochs, history.history[\"accuracy\"], \"ro\", label=\"training acc\")\n",
        "plt.plot(epochs, history.history[\"val_accuracy\"], \"b\", label=\"val accuracy\")\n",
        "plt.title(\"training and val accuracy\")\n",
        "plt.legend()\n",
        "plt.figure()\n",
        "\n",
        "plt.plot(epochs, history.history[\"loss\"], \"ro\", label=\"training loss\")\n",
        "plt.plot(epochs, history.history[\"val_loss\"], \"b\", label=\"val loss\")\n",
        "plt.title(\"training and val loss\")\n",
        "plt.legend()\n",
        "plt.figure()\n",
        "\n",
        "plt.show()"
      ],
      "execution_count": 12,
      "outputs": [
        {
          "output_type": "display_data",
          "data": {
            "image/png": "[encoded data removed]",
            "text/plain": [
              "<Figure size 432x288 with 1 Axes>"
            ]
          },
          "metadata": {
            "tags": []
          }
        },
        {
          "output_type": "display_data",
          "data": {
            "image/png": "[encoded data removed]",
            "text/plain": [
              "<Figure size 432x288 with 1 Axes>"
            ]
          },
          "metadata": {
            "tags": []
          }
        },
        {
          "output_type": "display_data",
          "data": {
            "text/plain": [
              "<Figure size 432x288 with 0 Axes>"
            ]
          },
          "metadata": {
            "tags": []
          }
        }
      ]
    },
    {
      "cell_type": "code",
      "metadata": {
        "id": "O6cY9vkDHyMf",
        "colab_type": "code",
        "outputId": "f00cbce3-be2e-4d5a-fe93-af43154dc7e1",
        "colab": {
          "base_uri": "https://localhost:8080/",
          "height": 508
        }
      },
      "source": [
        "# Show confusion matrix\n",
        "y_hat = model.predict(x_val)\n",
        "y_pred = np.argmax(y_hat, axis=1)\n",
        "y_true = np.argmax(y_val, axis=1)\n",
        "cm = tf.math.confusion_matrix(y_true, y_pred)\n",
        "\n",
        "plt.figure(figsize=(15,8))\n",
        "sns.heatmap(cm, annot=True, fmt=\"d\", cmap=\"Blues\")"
      ],
      "execution_count": 16,
      "outputs": [
        {
          "output_type": "execute_result",
          "data": {
            "text/plain": [
              "<matplotlib.axes._subplots.AxesSubplot at 0x7fdddab282b0>"
            ]
          },
          "metadata": {
            "tags": []
          },
          "execution_count": 16
        },
        {
          "output_type": "display_data",
          "data": {
            "image/png": "[encoded data removed]",
            "text/plain": [
              "<Figure size 1080x576 with 2 Axes>"
            ]
          },
          "metadata": {
            "tags": []
          }
        }
      ]
    }
  ]
}